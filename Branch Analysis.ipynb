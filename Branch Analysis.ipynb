{
 "cells": [
  {
   "cell_type": "markdown",
   "id": "4dd72026",
   "metadata": {},
   "source": [
    "### Exploring the dataset "
   ]
  },
  {
   "cell_type": "code",
   "execution_count": 6,
   "id": "5be202e5",
   "metadata": {},
   "outputs": [],
   "source": [
    "import pandas as pd\n",
    "import numpy as np\n",
    "import matplotlib.pyplot as plt\n",
    "import seaborn as sb"
   ]
  },
  {
   "cell_type": "code",
   "execution_count": 8,
   "id": "fe9a5348",
   "metadata": {},
   "outputs": [],
   "source": [
    "abj = pd.read_csv('csv/Abuja_Branch.csv')\n",
    "lag = pd.read_csv('csv/Lagos_Branch.csv')\n",
    "ph = pd.read_csv('csv/Port_Harcourt_Branch.csv')"
   ]
  },
  {
   "cell_type": "code",
   "execution_count": 9,
   "id": "cecbd435",
   "metadata": {},
   "outputs": [
    {
     "data": {
      "text/plain": [
       "(332, 17)"
      ]
     },
     "execution_count": 9,
     "metadata": {},
     "output_type": "execute_result"
    }
   ],
   "source": [
    "abj.shape"
   ]
  },
  {
   "cell_type": "code",
   "execution_count": 10,
   "id": "acc0ce3d",
   "metadata": {},
   "outputs": [
    {
     "data": {
      "text/html": [
       "<div>\n",
       "<style scoped>\n",
       "    .dataframe tbody tr th:only-of-type {\n",
       "        vertical-align: middle;\n",
       "    }\n",
       "\n",
       "    .dataframe tbody tr th {\n",
       "        vertical-align: top;\n",
       "    }\n",
       "\n",
       "    .dataframe thead th {\n",
       "        text-align: right;\n",
       "    }\n",
       "</style>\n",
       "<table border=\"1\" class=\"dataframe\">\n",
       "  <thead>\n",
       "    <tr style=\"text-align: right;\">\n",
       "      <th></th>\n",
       "      <th>Invoice ID</th>\n",
       "      <th>Branch</th>\n",
       "      <th>City</th>\n",
       "      <th>Customer type</th>\n",
       "      <th>Gender</th>\n",
       "      <th>Product line</th>\n",
       "      <th>Unit price</th>\n",
       "      <th>Quantity</th>\n",
       "      <th>Tax 5%</th>\n",
       "      <th>Total</th>\n",
       "      <th>Date</th>\n",
       "      <th>Time</th>\n",
       "      <th>Payment</th>\n",
       "      <th>cogs</th>\n",
       "      <th>gross margin percentage</th>\n",
       "      <th>gross income</th>\n",
       "      <th>Rating</th>\n",
       "    </tr>\n",
       "  </thead>\n",
       "  <tbody>\n",
       "    <tr>\n",
       "      <th>0</th>\n",
       "      <td>692-92-5582</td>\n",
       "      <td>B</td>\n",
       "      <td>Abuja</td>\n",
       "      <td>Member</td>\n",
       "      <td>Female</td>\n",
       "      <td>Food and beverages</td>\n",
       "      <td>19742.4</td>\n",
       "      <td>3</td>\n",
       "      <td>2961.36</td>\n",
       "      <td>62188.56</td>\n",
       "      <td>2/20/2019</td>\n",
       "      <td>13:27</td>\n",
       "      <td>Card</td>\n",
       "      <td>59227.2</td>\n",
       "      <td>4.761905</td>\n",
       "      <td>2961.36</td>\n",
       "      <td>5.9</td>\n",
       "    </tr>\n",
       "    <tr>\n",
       "      <th>1</th>\n",
       "      <td>351-62-0822</td>\n",
       "      <td>B</td>\n",
       "      <td>Abuja</td>\n",
       "      <td>Member</td>\n",
       "      <td>Female</td>\n",
       "      <td>Fashion accessories</td>\n",
       "      <td>5212.8</td>\n",
       "      <td>4</td>\n",
       "      <td>1042.56</td>\n",
       "      <td>21893.76</td>\n",
       "      <td>2/6/2019</td>\n",
       "      <td>18:07</td>\n",
       "      <td>Epay</td>\n",
       "      <td>20851.2</td>\n",
       "      <td>4.761905</td>\n",
       "      <td>1042.56</td>\n",
       "      <td>4.5</td>\n",
       "    </tr>\n",
       "    <tr>\n",
       "      <th>2</th>\n",
       "      <td>529-56-3974</td>\n",
       "      <td>B</td>\n",
       "      <td>Abuja</td>\n",
       "      <td>Member</td>\n",
       "      <td>Male</td>\n",
       "      <td>Electronic accessories</td>\n",
       "      <td>9183.6</td>\n",
       "      <td>4</td>\n",
       "      <td>1836.72</td>\n",
       "      <td>38571.12</td>\n",
       "      <td>3/9/2019</td>\n",
       "      <td>17:03</td>\n",
       "      <td>Cash</td>\n",
       "      <td>36734.4</td>\n",
       "      <td>4.761905</td>\n",
       "      <td>1836.72</td>\n",
       "      <td>6.8</td>\n",
       "    </tr>\n",
       "    <tr>\n",
       "      <th>3</th>\n",
       "      <td>299-46-1805</td>\n",
       "      <td>B</td>\n",
       "      <td>Abuja</td>\n",
       "      <td>Member</td>\n",
       "      <td>Female</td>\n",
       "      <td>Sports and travel</td>\n",
       "      <td>33739.2</td>\n",
       "      <td>6</td>\n",
       "      <td>10121.76</td>\n",
       "      <td>212556.96</td>\n",
       "      <td>1/15/2019</td>\n",
       "      <td>16:19</td>\n",
       "      <td>Cash</td>\n",
       "      <td>202435.2</td>\n",
       "      <td>4.761905</td>\n",
       "      <td>10121.76</td>\n",
       "      <td>4.5</td>\n",
       "    </tr>\n",
       "    <tr>\n",
       "      <th>4</th>\n",
       "      <td>319-50-3348</td>\n",
       "      <td>B</td>\n",
       "      <td>Abuja</td>\n",
       "      <td>Normal</td>\n",
       "      <td>Female</td>\n",
       "      <td>Home and lifestyle</td>\n",
       "      <td>14508.0</td>\n",
       "      <td>2</td>\n",
       "      <td>1450.80</td>\n",
       "      <td>30466.80</td>\n",
       "      <td>3/11/2019</td>\n",
       "      <td>15:30</td>\n",
       "      <td>Epay</td>\n",
       "      <td>29016.0</td>\n",
       "      <td>4.761905</td>\n",
       "      <td>1450.80</td>\n",
       "      <td>4.4</td>\n",
       "    </tr>\n",
       "  </tbody>\n",
       "</table>\n",
       "</div>"
      ],
      "text/plain": [
       "    Invoice ID Branch   City Customer type  Gender            Product line  \\\n",
       "0  692-92-5582      B  Abuja        Member  Female      Food and beverages   \n",
       "1  351-62-0822      B  Abuja        Member  Female     Fashion accessories   \n",
       "2  529-56-3974      B  Abuja        Member    Male  Electronic accessories   \n",
       "3  299-46-1805      B  Abuja        Member  Female       Sports and travel   \n",
       "4  319-50-3348      B  Abuja        Normal  Female      Home and lifestyle   \n",
       "\n",
       "   Unit price  Quantity    Tax 5%      Total       Date   Time Payment  \\\n",
       "0     19742.4         3   2961.36   62188.56  2/20/2019  13:27    Card   \n",
       "1      5212.8         4   1042.56   21893.76   2/6/2019  18:07    Epay   \n",
       "2      9183.6         4   1836.72   38571.12   3/9/2019  17:03    Cash   \n",
       "3     33739.2         6  10121.76  212556.96  1/15/2019  16:19    Cash   \n",
       "4     14508.0         2   1450.80   30466.80  3/11/2019  15:30    Epay   \n",
       "\n",
       "       cogs  gross margin percentage  gross income  Rating  \n",
       "0   59227.2                 4.761905       2961.36     5.9  \n",
       "1   20851.2                 4.761905       1042.56     4.5  \n",
       "2   36734.4                 4.761905       1836.72     6.8  \n",
       "3  202435.2                 4.761905      10121.76     4.5  \n",
       "4   29016.0                 4.761905       1450.80     4.4  "
      ]
     },
     "execution_count": 10,
     "metadata": {},
     "output_type": "execute_result"
    }
   ],
   "source": [
    "abj.head()"
   ]
  },
  {
   "cell_type": "code",
   "execution_count": 11,
   "id": "48bb4123",
   "metadata": {},
   "outputs": [
    {
     "data": {
      "text/html": [
       "<div>\n",
       "<style scoped>\n",
       "    .dataframe tbody tr th:only-of-type {\n",
       "        vertical-align: middle;\n",
       "    }\n",
       "\n",
       "    .dataframe tbody tr th {\n",
       "        vertical-align: top;\n",
       "    }\n",
       "\n",
       "    .dataframe thead th {\n",
       "        text-align: right;\n",
       "    }\n",
       "</style>\n",
       "<table border=\"1\" class=\"dataframe\">\n",
       "  <thead>\n",
       "    <tr style=\"text-align: right;\">\n",
       "      <th></th>\n",
       "      <th>Invoice ID</th>\n",
       "      <th>Branch</th>\n",
       "      <th>City</th>\n",
       "      <th>Customer type</th>\n",
       "      <th>Gender</th>\n",
       "      <th>Product line</th>\n",
       "      <th>Unit price</th>\n",
       "      <th>Quantity</th>\n",
       "      <th>Tax 5%</th>\n",
       "      <th>Total</th>\n",
       "      <th>Date</th>\n",
       "      <th>Time</th>\n",
       "      <th>Payment</th>\n",
       "      <th>cogs</th>\n",
       "      <th>gross margin percentage</th>\n",
       "      <th>gross income</th>\n",
       "      <th>Rating</th>\n",
       "    </tr>\n",
       "  </thead>\n",
       "  <tbody>\n",
       "    <tr>\n",
       "      <th>0</th>\n",
       "      <td>750-67-8428</td>\n",
       "      <td>A</td>\n",
       "      <td>Lagos</td>\n",
       "      <td>Member</td>\n",
       "      <td>Female</td>\n",
       "      <td>Health and beauty</td>\n",
       "      <td>26888.4</td>\n",
       "      <td>7</td>\n",
       "      <td>9410.94</td>\n",
       "      <td>197629.74</td>\n",
       "      <td>1/5/2019</td>\n",
       "      <td>13:08</td>\n",
       "      <td>Epay</td>\n",
       "      <td>188218.8</td>\n",
       "      <td>4.761905</td>\n",
       "      <td>9410.94</td>\n",
       "      <td>9.1</td>\n",
       "    </tr>\n",
       "    <tr>\n",
       "      <th>1</th>\n",
       "      <td>631-41-3108</td>\n",
       "      <td>A</td>\n",
       "      <td>Lagos</td>\n",
       "      <td>Normal</td>\n",
       "      <td>Male</td>\n",
       "      <td>Home and lifestyle</td>\n",
       "      <td>16678.8</td>\n",
       "      <td>7</td>\n",
       "      <td>5837.58</td>\n",
       "      <td>122589.18</td>\n",
       "      <td>3/3/2019</td>\n",
       "      <td>13:23</td>\n",
       "      <td>Card</td>\n",
       "      <td>116751.6</td>\n",
       "      <td>4.761905</td>\n",
       "      <td>5837.58</td>\n",
       "      <td>7.4</td>\n",
       "    </tr>\n",
       "    <tr>\n",
       "      <th>2</th>\n",
       "      <td>123-19-1176</td>\n",
       "      <td>A</td>\n",
       "      <td>Lagos</td>\n",
       "      <td>Member</td>\n",
       "      <td>Male</td>\n",
       "      <td>Health and beauty</td>\n",
       "      <td>20959.2</td>\n",
       "      <td>8</td>\n",
       "      <td>8383.68</td>\n",
       "      <td>176057.28</td>\n",
       "      <td>1/27/2019</td>\n",
       "      <td>20:33</td>\n",
       "      <td>Epay</td>\n",
       "      <td>167673.6</td>\n",
       "      <td>4.761905</td>\n",
       "      <td>8383.68</td>\n",
       "      <td>8.4</td>\n",
       "    </tr>\n",
       "    <tr>\n",
       "      <th>3</th>\n",
       "      <td>373-73-7910</td>\n",
       "      <td>A</td>\n",
       "      <td>Lagos</td>\n",
       "      <td>Normal</td>\n",
       "      <td>Male</td>\n",
       "      <td>Sports and travel</td>\n",
       "      <td>31071.6</td>\n",
       "      <td>7</td>\n",
       "      <td>10875.06</td>\n",
       "      <td>228376.26</td>\n",
       "      <td>2/8/2019</td>\n",
       "      <td>10:37</td>\n",
       "      <td>Epay</td>\n",
       "      <td>217501.2</td>\n",
       "      <td>4.761905</td>\n",
       "      <td>10875.06</td>\n",
       "      <td>5.3</td>\n",
       "    </tr>\n",
       "    <tr>\n",
       "      <th>4</th>\n",
       "      <td>355-53-5943</td>\n",
       "      <td>A</td>\n",
       "      <td>Lagos</td>\n",
       "      <td>Member</td>\n",
       "      <td>Female</td>\n",
       "      <td>Electronic accessories</td>\n",
       "      <td>24782.4</td>\n",
       "      <td>6</td>\n",
       "      <td>7434.72</td>\n",
       "      <td>156129.12</td>\n",
       "      <td>2/25/2019</td>\n",
       "      <td>14:36</td>\n",
       "      <td>Epay</td>\n",
       "      <td>148694.4</td>\n",
       "      <td>4.761905</td>\n",
       "      <td>7434.72</td>\n",
       "      <td>5.8</td>\n",
       "    </tr>\n",
       "  </tbody>\n",
       "</table>\n",
       "</div>"
      ],
      "text/plain": [
       "    Invoice ID Branch   City Customer type  Gender            Product line  \\\n",
       "0  750-67-8428      A  Lagos        Member  Female       Health and beauty   \n",
       "1  631-41-3108      A  Lagos        Normal    Male      Home and lifestyle   \n",
       "2  123-19-1176      A  Lagos        Member    Male       Health and beauty   \n",
       "3  373-73-7910      A  Lagos        Normal    Male       Sports and travel   \n",
       "4  355-53-5943      A  Lagos        Member  Female  Electronic accessories   \n",
       "\n",
       "   Unit price  Quantity    Tax 5%      Total       Date   Time Payment  \\\n",
       "0     26888.4         7   9410.94  197629.74   1/5/2019  13:08    Epay   \n",
       "1     16678.8         7   5837.58  122589.18   3/3/2019  13:23    Card   \n",
       "2     20959.2         8   8383.68  176057.28  1/27/2019  20:33    Epay   \n",
       "3     31071.6         7  10875.06  228376.26   2/8/2019  10:37    Epay   \n",
       "4     24782.4         6   7434.72  156129.12  2/25/2019  14:36    Epay   \n",
       "\n",
       "       cogs  gross margin percentage  gross income  Rating  \n",
       "0  188218.8                 4.761905       9410.94     9.1  \n",
       "1  116751.6                 4.761905       5837.58     7.4  \n",
       "2  167673.6                 4.761905       8383.68     8.4  \n",
       "3  217501.2                 4.761905      10875.06     5.3  \n",
       "4  148694.4                 4.761905       7434.72     5.8  "
      ]
     },
     "execution_count": 11,
     "metadata": {},
     "output_type": "execute_result"
    }
   ],
   "source": [
    "lag.head()"
   ]
  },
  {
   "cell_type": "code",
   "execution_count": 12,
   "id": "f2c3fb6c",
   "metadata": {
    "scrolled": true
   },
   "outputs": [
    {
     "data": {
      "text/html": [
       "<div>\n",
       "<style scoped>\n",
       "    .dataframe tbody tr th:only-of-type {\n",
       "        vertical-align: middle;\n",
       "    }\n",
       "\n",
       "    .dataframe tbody tr th {\n",
       "        vertical-align: top;\n",
       "    }\n",
       "\n",
       "    .dataframe thead th {\n",
       "        text-align: right;\n",
       "    }\n",
       "</style>\n",
       "<table border=\"1\" class=\"dataframe\">\n",
       "  <thead>\n",
       "    <tr style=\"text-align: right;\">\n",
       "      <th></th>\n",
       "      <th>Invoice ID</th>\n",
       "      <th>Branch</th>\n",
       "      <th>City</th>\n",
       "      <th>Customer type</th>\n",
       "      <th>Gender</th>\n",
       "      <th>Product line</th>\n",
       "      <th>Unit price</th>\n",
       "      <th>Quantity</th>\n",
       "      <th>Tax 5%</th>\n",
       "      <th>Total</th>\n",
       "      <th>Date</th>\n",
       "      <th>Time</th>\n",
       "      <th>Payment</th>\n",
       "      <th>cogs</th>\n",
       "      <th>gross margin percentage</th>\n",
       "      <th>gross income</th>\n",
       "      <th>Rating</th>\n",
       "    </tr>\n",
       "  </thead>\n",
       "  <tbody>\n",
       "    <tr>\n",
       "      <th>995</th>\n",
       "      <td>148-41-7930</td>\n",
       "      <td>C</td>\n",
       "      <td>Port Harcourt</td>\n",
       "      <td>Normal</td>\n",
       "      <td>Male</td>\n",
       "      <td>Health and beauty</td>\n",
       "      <td>35985.6</td>\n",
       "      <td>7</td>\n",
       "      <td>12594.96</td>\n",
       "      <td>264494.16</td>\n",
       "      <td>1/23/2019</td>\n",
       "      <td>10:33</td>\n",
       "      <td>Cash</td>\n",
       "      <td>251899.2</td>\n",
       "      <td>4.761905</td>\n",
       "      <td>12594.96</td>\n",
       "      <td>6.1</td>\n",
       "    </tr>\n",
       "    <tr>\n",
       "      <th>996</th>\n",
       "      <td>189-40-5216</td>\n",
       "      <td>C</td>\n",
       "      <td>Port Harcourt</td>\n",
       "      <td>Normal</td>\n",
       "      <td>Male</td>\n",
       "      <td>Electronic accessories</td>\n",
       "      <td>34693.2</td>\n",
       "      <td>7</td>\n",
       "      <td>12142.62</td>\n",
       "      <td>254995.02</td>\n",
       "      <td>1/9/2019</td>\n",
       "      <td>11:40</td>\n",
       "      <td>Cash</td>\n",
       "      <td>242852.4</td>\n",
       "      <td>4.761905</td>\n",
       "      <td>12142.62</td>\n",
       "      <td>6.0</td>\n",
       "    </tr>\n",
       "    <tr>\n",
       "      <th>997</th>\n",
       "      <td>267-62-7380</td>\n",
       "      <td>C</td>\n",
       "      <td>Port Harcourt</td>\n",
       "      <td>Member</td>\n",
       "      <td>Male</td>\n",
       "      <td>Electronic accessories</td>\n",
       "      <td>29642.4</td>\n",
       "      <td>10</td>\n",
       "      <td>14821.20</td>\n",
       "      <td>311245.20</td>\n",
       "      <td>3/29/2019</td>\n",
       "      <td>19:12</td>\n",
       "      <td>Epay</td>\n",
       "      <td>296424.0</td>\n",
       "      <td>4.761905</td>\n",
       "      <td>14821.20</td>\n",
       "      <td>4.3</td>\n",
       "    </tr>\n",
       "    <tr>\n",
       "      <th>998</th>\n",
       "      <td>652-49-6720</td>\n",
       "      <td>C</td>\n",
       "      <td>Port Harcourt</td>\n",
       "      <td>Member</td>\n",
       "      <td>Female</td>\n",
       "      <td>Electronic accessories</td>\n",
       "      <td>21942.0</td>\n",
       "      <td>1</td>\n",
       "      <td>1097.10</td>\n",
       "      <td>23039.10</td>\n",
       "      <td>2/18/2019</td>\n",
       "      <td>11:40</td>\n",
       "      <td>Epay</td>\n",
       "      <td>21942.0</td>\n",
       "      <td>4.761905</td>\n",
       "      <td>1097.10</td>\n",
       "      <td>5.9</td>\n",
       "    </tr>\n",
       "    <tr>\n",
       "      <th>999</th>\n",
       "      <td>233-67-5758</td>\n",
       "      <td>C</td>\n",
       "      <td>Port Harcourt</td>\n",
       "      <td>Normal</td>\n",
       "      <td>Male</td>\n",
       "      <td>Health and beauty</td>\n",
       "      <td>14526.0</td>\n",
       "      <td>1</td>\n",
       "      <td>726.30</td>\n",
       "      <td>15252.30</td>\n",
       "      <td>1/29/2019</td>\n",
       "      <td>13:46</td>\n",
       "      <td>Epay</td>\n",
       "      <td>14526.0</td>\n",
       "      <td>4.761905</td>\n",
       "      <td>726.30</td>\n",
       "      <td>6.2</td>\n",
       "    </tr>\n",
       "  </tbody>\n",
       "</table>\n",
       "</div>"
      ],
      "text/plain": [
       "      Invoice ID Branch           City Customer type  Gender  \\\n",
       "995  148-41-7930      C  Port Harcourt        Normal    Male   \n",
       "996  189-40-5216      C  Port Harcourt        Normal    Male   \n",
       "997  267-62-7380      C  Port Harcourt        Member    Male   \n",
       "998  652-49-6720      C  Port Harcourt        Member  Female   \n",
       "999  233-67-5758      C  Port Harcourt        Normal    Male   \n",
       "\n",
       "               Product line  Unit price  Quantity    Tax 5%      Total  \\\n",
       "995       Health and beauty     35985.6         7  12594.96  264494.16   \n",
       "996  Electronic accessories     34693.2         7  12142.62  254995.02   \n",
       "997  Electronic accessories     29642.4        10  14821.20  311245.20   \n",
       "998  Electronic accessories     21942.0         1   1097.10   23039.10   \n",
       "999       Health and beauty     14526.0         1    726.30   15252.30   \n",
       "\n",
       "          Date   Time Payment      cogs  gross margin percentage  \\\n",
       "995  1/23/2019  10:33    Cash  251899.2                 4.761905   \n",
       "996   1/9/2019  11:40    Cash  242852.4                 4.761905   \n",
       "997  3/29/2019  19:12    Epay  296424.0                 4.761905   \n",
       "998  2/18/2019  11:40    Epay   21942.0                 4.761905   \n",
       "999  1/29/2019  13:46    Epay   14526.0                 4.761905   \n",
       "\n",
       "     gross income  Rating  \n",
       "995      12594.96     6.1  \n",
       "996      12142.62     6.0  \n",
       "997      14821.20     4.3  \n",
       "998       1097.10     5.9  \n",
       "999        726.30     6.2  "
      ]
     },
     "execution_count": 12,
     "metadata": {},
     "output_type": "execute_result"
    }
   ],
   "source": [
    "all_branch = pd.concat([lag,abj,ph])\n",
    "all_branch.reset_index(drop=True, inplace=True)\n",
    "all_branch.tail(5)"
   ]
  },
  {
   "cell_type": "code",
   "execution_count": 14,
   "id": "012fe54b",
   "metadata": {},
   "outputs": [
    {
     "data": {
      "text/plain": [
       "Invoice ID                  object\n",
       "Branch                      object\n",
       "City                        object\n",
       "Customer type               object\n",
       "Gender                      object\n",
       "Product line                object\n",
       "Unit price                 float64\n",
       "Quantity                     int64\n",
       "Tax 5%                     float64\n",
       "Total                      float64\n",
       "Date                        object\n",
       "Time                        object\n",
       "Payment                     object\n",
       "cogs                       float64\n",
       "gross margin percentage    float64\n",
       "gross income               float64\n",
       "Rating                     float64\n",
       "dtype: object"
      ]
     },
     "execution_count": 14,
     "metadata": {},
     "output_type": "execute_result"
    }
   ],
   "source": [
    "all_branch.dtypes"
   ]
  },
  {
   "cell_type": "code",
   "execution_count": 15,
   "id": "0f27ca34",
   "metadata": {},
   "outputs": [
    {
     "data": {
      "text/plain": [
       "(1000, 17)"
      ]
     },
     "execution_count": 15,
     "metadata": {},
     "output_type": "execute_result"
    }
   ],
   "source": [
    "all_branch.shape"
   ]
  },
  {
   "cell_type": "code",
   "execution_count": 16,
   "id": "807230a6",
   "metadata": {},
   "outputs": [
    {
     "data": {
      "text/plain": [
       "Index(['Invoice ID', 'Branch', 'City', 'Customer type', 'Gender',\n",
       "       'Product line', 'Unit price', 'Quantity', 'Tax 5%', 'Total', 'Date',\n",
       "       'Time', 'Payment', 'cogs', 'gross margin percentage', 'gross income',\n",
       "       'Rating'],\n",
       "      dtype='object')"
      ]
     },
     "execution_count": 16,
     "metadata": {},
     "output_type": "execute_result"
    }
   ],
   "source": [
    "all_branch.columns"
   ]
  },
  {
   "cell_type": "code",
   "execution_count": 17,
   "id": "0a54fcda",
   "metadata": {},
   "outputs": [
    {
     "data": {
      "text/plain": [
       "array(['Health and beauty', 'Home and lifestyle', 'Sports and travel',\n",
       "       'Electronic accessories', 'Food and beverages',\n",
       "       'Fashion accessories'], dtype=object)"
      ]
     },
     "execution_count": 17,
     "metadata": {},
     "output_type": "execute_result"
    }
   ],
   "source": [
    "all_branch['Product line'].unique()"
   ]
  },
  {
   "cell_type": "code",
   "execution_count": 18,
   "id": "9aca7ecd",
   "metadata": {},
   "outputs": [
    {
     "data": {
      "text/plain": [
       "dtype('<M8[ns]')"
      ]
     },
     "execution_count": 18,
     "metadata": {},
     "output_type": "execute_result"
    }
   ],
   "source": [
    "all_branch['Date'].head(4)\n",
    "all_branch['Date'] = pd.to_datetime(all_branch['Date'])\n",
    "all_branch['Date'].dtype"
   ]
  },
  {
   "cell_type": "code",
   "execution_count": 19,
   "id": "66ae0b3b",
   "metadata": {},
   "outputs": [
    {
     "data": {
      "text/plain": [
       "Invoice ID                         object\n",
       "Branch                             object\n",
       "City                               object\n",
       "Customer type                      object\n",
       "Gender                             object\n",
       "Product line                       object\n",
       "Unit price                        float64\n",
       "Quantity                            int64\n",
       "Tax 5%                            float64\n",
       "Total                             float64\n",
       "Date                       datetime64[ns]\n",
       "Time                               object\n",
       "Payment                            object\n",
       "cogs                              float64\n",
       "gross margin percentage           float64\n",
       "gross income                      float64\n",
       "Rating                            float64\n",
       "dtype: object"
      ]
     },
     "execution_count": 19,
     "metadata": {},
     "output_type": "execute_result"
    }
   ],
   "source": [
    "all_branch.dtypes"
   ]
  },
  {
   "cell_type": "code",
   "execution_count": 20,
   "id": "84527961",
   "metadata": {},
   "outputs": [
    {
     "data": {
      "text/plain": [
       "Invoice ID                 0\n",
       "Branch                     0\n",
       "City                       0\n",
       "Customer type              0\n",
       "Gender                     0\n",
       "Product line               0\n",
       "Unit price                 0\n",
       "Quantity                   0\n",
       "Tax 5%                     0\n",
       "Total                      0\n",
       "Date                       0\n",
       "Time                       0\n",
       "Payment                    0\n",
       "cogs                       0\n",
       "gross margin percentage    0\n",
       "gross income               0\n",
       "Rating                     0\n",
       "dtype: int64"
      ]
     },
     "execution_count": 20,
     "metadata": {},
     "output_type": "execute_result"
    }
   ],
   "source": [
    "all_branch.isnull().sum()"
   ]
  },
  {
   "cell_type": "code",
   "execution_count": 21,
   "id": "7698aa15",
   "metadata": {},
   "outputs": [
    {
     "data": {
      "text/html": [
       "<div>\n",
       "<style scoped>\n",
       "    .dataframe tbody tr th:only-of-type {\n",
       "        vertical-align: middle;\n",
       "    }\n",
       "\n",
       "    .dataframe tbody tr th {\n",
       "        vertical-align: top;\n",
       "    }\n",
       "\n",
       "    .dataframe thead th {\n",
       "        text-align: right;\n",
       "    }\n",
       "</style>\n",
       "<table border=\"1\" class=\"dataframe\">\n",
       "  <thead>\n",
       "    <tr style=\"text-align: right;\">\n",
       "      <th></th>\n",
       "      <th>Unit price</th>\n",
       "      <th>Quantity</th>\n",
       "      <th>Tax 5%</th>\n",
       "      <th>Total</th>\n",
       "      <th>cogs</th>\n",
       "      <th>gross margin percentage</th>\n",
       "      <th>gross income</th>\n",
       "      <th>Rating</th>\n",
       "    </tr>\n",
       "  </thead>\n",
       "  <tbody>\n",
       "    <tr>\n",
       "      <th>count</th>\n",
       "      <td>1000.000000</td>\n",
       "      <td>1000.000000</td>\n",
       "      <td>1000.000000</td>\n",
       "      <td>1000.000000</td>\n",
       "      <td>1000.000000</td>\n",
       "      <td>1.000000e+03</td>\n",
       "      <td>1000.000000</td>\n",
       "      <td>1000.00000</td>\n",
       "    </tr>\n",
       "    <tr>\n",
       "      <th>mean</th>\n",
       "      <td>20041.966800</td>\n",
       "      <td>5.510000</td>\n",
       "      <td>5536.572840</td>\n",
       "      <td>116268.029640</td>\n",
       "      <td>110731.456800</td>\n",
       "      <td>4.761905e+00</td>\n",
       "      <td>5536.572840</td>\n",
       "      <td>6.97270</td>\n",
       "    </tr>\n",
       "    <tr>\n",
       "      <th>std</th>\n",
       "      <td>9538.066205</td>\n",
       "      <td>2.923431</td>\n",
       "      <td>4215.177173</td>\n",
       "      <td>88518.720636</td>\n",
       "      <td>84303.543463</td>\n",
       "      <td>6.131498e-14</td>\n",
       "      <td>4215.177173</td>\n",
       "      <td>1.71858</td>\n",
       "    </tr>\n",
       "    <tr>\n",
       "      <th>min</th>\n",
       "      <td>3628.800000</td>\n",
       "      <td>1.000000</td>\n",
       "      <td>183.060000</td>\n",
       "      <td>3844.260000</td>\n",
       "      <td>3661.200000</td>\n",
       "      <td>4.761905e+00</td>\n",
       "      <td>183.060000</td>\n",
       "      <td>4.00000</td>\n",
       "    </tr>\n",
       "    <tr>\n",
       "      <th>25%</th>\n",
       "      <td>11835.000000</td>\n",
       "      <td>3.000000</td>\n",
       "      <td>2132.955000</td>\n",
       "      <td>44792.055000</td>\n",
       "      <td>42659.100000</td>\n",
       "      <td>4.761905e+00</td>\n",
       "      <td>2132.955000</td>\n",
       "      <td>5.50000</td>\n",
       "    </tr>\n",
       "    <tr>\n",
       "      <th>50%</th>\n",
       "      <td>19882.800000</td>\n",
       "      <td>5.000000</td>\n",
       "      <td>4351.680000</td>\n",
       "      <td>91385.280000</td>\n",
       "      <td>87033.600000</td>\n",
       "      <td>4.761905e+00</td>\n",
       "      <td>4351.680000</td>\n",
       "      <td>7.00000</td>\n",
       "    </tr>\n",
       "    <tr>\n",
       "      <th>75%</th>\n",
       "      <td>28056.600000</td>\n",
       "      <td>8.000000</td>\n",
       "      <td>8080.290000</td>\n",
       "      <td>169686.090000</td>\n",
       "      <td>161605.800000</td>\n",
       "      <td>4.761905e+00</td>\n",
       "      <td>8080.290000</td>\n",
       "      <td>8.50000</td>\n",
       "    </tr>\n",
       "    <tr>\n",
       "      <th>max</th>\n",
       "      <td>35985.600000</td>\n",
       "      <td>10.000000</td>\n",
       "      <td>17874.000000</td>\n",
       "      <td>375354.000000</td>\n",
       "      <td>357480.000000</td>\n",
       "      <td>4.761905e+00</td>\n",
       "      <td>17874.000000</td>\n",
       "      <td>10.00000</td>\n",
       "    </tr>\n",
       "  </tbody>\n",
       "</table>\n",
       "</div>"
      ],
      "text/plain": [
       "         Unit price     Quantity        Tax 5%          Total           cogs  \\\n",
       "count   1000.000000  1000.000000   1000.000000    1000.000000    1000.000000   \n",
       "mean   20041.966800     5.510000   5536.572840  116268.029640  110731.456800   \n",
       "std     9538.066205     2.923431   4215.177173   88518.720636   84303.543463   \n",
       "min     3628.800000     1.000000    183.060000    3844.260000    3661.200000   \n",
       "25%    11835.000000     3.000000   2132.955000   44792.055000   42659.100000   \n",
       "50%    19882.800000     5.000000   4351.680000   91385.280000   87033.600000   \n",
       "75%    28056.600000     8.000000   8080.290000  169686.090000  161605.800000   \n",
       "max    35985.600000    10.000000  17874.000000  375354.000000  357480.000000   \n",
       "\n",
       "       gross margin percentage  gross income      Rating  \n",
       "count             1.000000e+03   1000.000000  1000.00000  \n",
       "mean              4.761905e+00   5536.572840     6.97270  \n",
       "std               6.131498e-14   4215.177173     1.71858  \n",
       "min               4.761905e+00    183.060000     4.00000  \n",
       "25%               4.761905e+00   2132.955000     5.50000  \n",
       "50%               4.761905e+00   4351.680000     7.00000  \n",
       "75%               4.761905e+00   8080.290000     8.50000  \n",
       "max               4.761905e+00  17874.000000    10.00000  "
      ]
     },
     "execution_count": 21,
     "metadata": {},
     "output_type": "execute_result"
    }
   ],
   "source": [
    "all_branch.describe()"
   ]
  },
  {
   "cell_type": "code",
   "execution_count": 22,
   "id": "80cca2a2",
   "metadata": {},
   "outputs": [
    {
     "name": "stdout",
     "output_type": "stream",
     "text": [
      "<class 'pandas.core.frame.DataFrame'>\n",
      "RangeIndex: 1000 entries, 0 to 999\n",
      "Data columns (total 17 columns):\n",
      " #   Column                   Non-Null Count  Dtype         \n",
      "---  ------                   --------------  -----         \n",
      " 0   Invoice ID               1000 non-null   object        \n",
      " 1   Branch                   1000 non-null   object        \n",
      " 2   City                     1000 non-null   object        \n",
      " 3   Customer type            1000 non-null   object        \n",
      " 4   Gender                   1000 non-null   object        \n",
      " 5   Product line             1000 non-null   object        \n",
      " 6   Unit price               1000 non-null   float64       \n",
      " 7   Quantity                 1000 non-null   int64         \n",
      " 8   Tax 5%                   1000 non-null   float64       \n",
      " 9   Total                    1000 non-null   float64       \n",
      " 10  Date                     1000 non-null   datetime64[ns]\n",
      " 11  Time                     1000 non-null   object        \n",
      " 12  Payment                  1000 non-null   object        \n",
      " 13  cogs                     1000 non-null   float64       \n",
      " 14  gross margin percentage  1000 non-null   float64       \n",
      " 15  gross income             1000 non-null   float64       \n",
      " 16  Rating                   1000 non-null   float64       \n",
      "dtypes: datetime64[ns](1), float64(7), int64(1), object(8)\n",
      "memory usage: 132.9+ KB\n"
     ]
    }
   ],
   "source": [
    "all_branch.info()"
   ]
  },
  {
   "cell_type": "code",
   "execution_count": 23,
   "id": "ea0cdd56",
   "metadata": {},
   "outputs": [
    {
     "data": {
      "text/plain": [
       "0      13:08\n",
       "1      13:23\n",
       "2      20:33\n",
       "3      10:37\n",
       "4      14:36\n",
       "       ...  \n",
       "995    10:33\n",
       "996    11:40\n",
       "997    19:12\n",
       "998    11:40\n",
       "999    13:46\n",
       "Name: Time, Length: 1000, dtype: object"
      ]
     },
     "execution_count": 23,
     "metadata": {},
     "output_type": "execute_result"
    }
   ],
   "source": [
    "all_branch['Time']"
   ]
  },
  {
   "cell_type": "code",
   "execution_count": 24,
   "id": "b76f5242",
   "metadata": {},
   "outputs": [
    {
     "data": {
      "text/plain": [
       "506"
      ]
     },
     "execution_count": 24,
     "metadata": {},
     "output_type": "execute_result"
    }
   ],
   "source": [
    "\n",
    "all_branch['Time'].nunique()"
   ]
  },
  {
   "cell_type": "markdown",
   "id": "1b0eee64",
   "metadata": {},
   "source": [
    "#### Questions\n",
    "\n",
    "1. Income by Product line\n",
    "2. Income by Branch\n",
    "3. Quantity sold City\n",
    "4. Quantity sold by Product line\n",
    "5. Cities with highest sales\n",
    "6. Relationship between quatity and total gross income\n",
    "7. Monthly income\n",
    "8. What's the total tax generated\n",
    "9. Most used payment method\n",
    "10. For each product line, which gender dominates in terms of quantity purchased.\n",
    "11. The day and time where sales was high and low"
   ]
  },
  {
   "cell_type": "markdown",
   "id": "5314a7ed",
   "metadata": {},
   "source": [
    "1. Income by Product line"
   ]
  },
  {
   "cell_type": "code",
   "execution_count": 25,
   "id": "b8ad7679",
   "metadata": {},
   "outputs": [
    {
     "data": {
      "text/html": [
       "<div>\n",
       "<style scoped>\n",
       "    .dataframe tbody tr th:only-of-type {\n",
       "        vertical-align: middle;\n",
       "    }\n",
       "\n",
       "    .dataframe tbody tr th {\n",
       "        vertical-align: top;\n",
       "    }\n",
       "\n",
       "    .dataframe thead th {\n",
       "        text-align: right;\n",
       "    }\n",
       "</style>\n",
       "<table border=\"1\" class=\"dataframe\">\n",
       "  <thead>\n",
       "    <tr style=\"text-align: right;\">\n",
       "      <th></th>\n",
       "      <th>Product line</th>\n",
       "      <th>gross income</th>\n",
       "    </tr>\n",
       "  </thead>\n",
       "  <tbody>\n",
       "    <tr>\n",
       "      <th>3</th>\n",
       "      <td>Health and beauty</td>\n",
       "      <td>843321.24</td>\n",
       "    </tr>\n",
       "    <tr>\n",
       "      <th>4</th>\n",
       "      <td>Home and lifestyle</td>\n",
       "      <td>923347.08</td>\n",
       "    </tr>\n",
       "    <tr>\n",
       "      <th>1</th>\n",
       "      <td>Fashion accessories</td>\n",
       "      <td>930958.20</td>\n",
       "    </tr>\n",
       "    <tr>\n",
       "      <th>0</th>\n",
       "      <td>Electronic accessories</td>\n",
       "      <td>931500.54</td>\n",
       "    </tr>\n",
       "    <tr>\n",
       "      <th>5</th>\n",
       "      <td>Sports and travel</td>\n",
       "      <td>944962.74</td>\n",
       "    </tr>\n",
       "    <tr>\n",
       "      <th>2</th>\n",
       "      <td>Food and beverages</td>\n",
       "      <td>962483.04</td>\n",
       "    </tr>\n",
       "  </tbody>\n",
       "</table>\n",
       "</div>"
      ],
      "text/plain": [
       "             Product line  gross income\n",
       "3       Health and beauty     843321.24\n",
       "4      Home and lifestyle     923347.08\n",
       "1     Fashion accessories     930958.20\n",
       "0  Electronic accessories     931500.54\n",
       "5       Sports and travel     944962.74\n",
       "2      Food and beverages     962483.04"
      ]
     },
     "execution_count": 25,
     "metadata": {},
     "output_type": "execute_result"
    }
   ],
   "source": [
    "prod_income = all_branch.groupby('Product line')['gross income'].sum().to_frame().reset_index()\n",
    "prod_income.sort_values('gross income', inplace=True)\n",
    "prod_income"
   ]
  },
  {
   "cell_type": "code",
   "execution_count": 26,
   "id": "55de8b1e",
   "metadata": {},
   "outputs": [
    {
     "data": {
      "image/png": "[encoded data removed]",
      "text/plain": [
       "<Figure size 1500x1000 with 1 Axes>"
      ]
     },
     "metadata": {},
     "output_type": "display_data"
    }
   ],
   "source": [
    "plt.figure(figsize=(15, 10))\n",
    "sb.barplot(data=prod_income, x='Product line', y='gross income')\n",
    "plt.title('Income by Product Line')\n",
    "plt.show()"
   ]
  },
  {
   "cell_type": "markdown",
   "id": "904fdf29",
   "metadata": {},
   "source": [
    "2. Income by Branch"
   ]
  },
  {
   "cell_type": "code",
   "execution_count": 27,
   "id": "9a93b833",
   "metadata": {},
   "outputs": [
    {
     "data": {
      "text/html": [
       "<div>\n",
       "<style scoped>\n",
       "    .dataframe tbody tr th:only-of-type {\n",
       "        vertical-align: middle;\n",
       "    }\n",
       "\n",
       "    .dataframe tbody tr th {\n",
       "        vertical-align: top;\n",
       "    }\n",
       "\n",
       "    .dataframe thead th {\n",
       "        text-align: right;\n",
       "    }\n",
       "</style>\n",
       "<table border=\"1\" class=\"dataframe\">\n",
       "  <thead>\n",
       "    <tr style=\"text-align: right;\">\n",
       "      <th></th>\n",
       "      <th>Branch</th>\n",
       "      <th>gross income</th>\n",
       "    </tr>\n",
       "  </thead>\n",
       "  <tbody>\n",
       "    <tr>\n",
       "      <th>1</th>\n",
       "      <td>B</td>\n",
       "      <td>1820531.52</td>\n",
       "    </tr>\n",
       "    <tr>\n",
       "      <th>0</th>\n",
       "      <td>A</td>\n",
       "      <td>1820577.78</td>\n",
       "    </tr>\n",
       "    <tr>\n",
       "      <th>2</th>\n",
       "      <td>C</td>\n",
       "      <td>1895463.54</td>\n",
       "    </tr>\n",
       "  </tbody>\n",
       "</table>\n",
       "</div>"
      ],
      "text/plain": [
       "  Branch  gross income\n",
       "1      B    1820531.52\n",
       "0      A    1820577.78\n",
       "2      C    1895463.54"
      ]
     },
     "execution_count": 27,
     "metadata": {},
     "output_type": "execute_result"
    }
   ],
   "source": [
    "branch_income = all_branch.groupby('Branch')['gross income'].sum().to_frame().reset_index()\n",
    "branch_income.sort_values('gross income', inplace=True)\n",
    "branch_income"
   ]
  },
  {
   "cell_type": "code",
   "execution_count": 28,
   "id": "bc825a07",
   "metadata": {},
   "outputs": [
    {
     "data": {
      "image/png": "[encoded data removed]",
      "text/plain": [
       "<Figure size 1500x1000 with 1 Axes>"
      ]
     },
     "metadata": {},
     "output_type": "display_data"
    }
   ],
   "source": [
    "plt.figure(figsize=(15, 10))\n",
    "sb.barplot(data=branch_income, x='Branch', y='gross income')\n",
    "plt.title('Income by Branch')\n",
    "plt.show()"
   ]
  },
  {
   "cell_type": "markdown",
   "id": "998ae924",
   "metadata": {},
   "source": [
    "3. Quantity sold City"
   ]
  },
  {
   "cell_type": "code",
   "execution_count": 29,
   "id": "af17ebc6",
   "metadata": {},
   "outputs": [
    {
     "data": {
      "text/html": [
       "<div>\n",
       "<style scoped>\n",
       "    .dataframe tbody tr th:only-of-type {\n",
       "        vertical-align: middle;\n",
       "    }\n",
       "\n",
       "    .dataframe tbody tr th {\n",
       "        vertical-align: top;\n",
       "    }\n",
       "\n",
       "    .dataframe thead th {\n",
       "        text-align: right;\n",
       "    }\n",
       "</style>\n",
       "<table border=\"1\" class=\"dataframe\">\n",
       "  <thead>\n",
       "    <tr style=\"text-align: right;\">\n",
       "      <th></th>\n",
       "      <th>City</th>\n",
       "      <th>Quantity</th>\n",
       "    </tr>\n",
       "  </thead>\n",
       "  <tbody>\n",
       "    <tr>\n",
       "      <th>0</th>\n",
       "      <td>Abuja</td>\n",
       "      <td>1820</td>\n",
       "    </tr>\n",
       "    <tr>\n",
       "      <th>2</th>\n",
       "      <td>Port Harcourt</td>\n",
       "      <td>1831</td>\n",
       "    </tr>\n",
       "    <tr>\n",
       "      <th>1</th>\n",
       "      <td>Lagos</td>\n",
       "      <td>1859</td>\n",
       "    </tr>\n",
       "  </tbody>\n",
       "</table>\n",
       "</div>"
      ],
      "text/plain": [
       "            City  Quantity\n",
       "0          Abuja      1820\n",
       "2  Port Harcourt      1831\n",
       "1          Lagos      1859"
      ]
     },
     "execution_count": 29,
     "metadata": {},
     "output_type": "execute_result"
    }
   ],
   "source": [
    "city_qty = all_branch.groupby('City')['Quantity'].sum().to_frame().reset_index()\n",
    "city_qty.sort_values('Quantity', inplace=True)\n",
    "city_qty"
   ]
  },
  {
   "cell_type": "code",
   "execution_count": 30,
   "id": "4e21af22",
   "metadata": {},
   "outputs": [
    {
     "data": {
      "image/png": "[encoded data removed]",
      "text/plain": [
       "<Figure size 1000x800 with 1 Axes>"
      ]
     },
     "metadata": {},
     "output_type": "display_data"
    }
   ],
   "source": [
    "plt.figure(figsize=(10, 8))\n",
    "sb.barplot(data=city_qty, x='City', y='Quantity')\n",
    "plt.title('Quantity Sold by City')\n",
    "plt.show()\n",
    "# sb.violinplot(data )"
   ]
  },
  {
   "cell_type": "markdown",
   "id": "46d4405a",
   "metadata": {},
   "source": [
    "4. Quantity sold by Product line"
   ]
  },
  {
   "cell_type": "code",
   "execution_count": 31,
   "id": "8a023c46",
   "metadata": {},
   "outputs": [
    {
     "data": {
      "text/html": [
       "<div>\n",
       "<style scoped>\n",
       "    .dataframe tbody tr th:only-of-type {\n",
       "        vertical-align: middle;\n",
       "    }\n",
       "\n",
       "    .dataframe tbody tr th {\n",
       "        vertical-align: top;\n",
       "    }\n",
       "\n",
       "    .dataframe thead th {\n",
       "        text-align: right;\n",
       "    }\n",
       "</style>\n",
       "<table border=\"1\" class=\"dataframe\">\n",
       "  <thead>\n",
       "    <tr style=\"text-align: right;\">\n",
       "      <th></th>\n",
       "      <th>Product line</th>\n",
       "      <th>Quantity</th>\n",
       "    </tr>\n",
       "  </thead>\n",
       "  <tbody>\n",
       "    <tr>\n",
       "      <th>3</th>\n",
       "      <td>Health and beauty</td>\n",
       "      <td>854</td>\n",
       "    </tr>\n",
       "    <tr>\n",
       "      <th>1</th>\n",
       "      <td>Fashion accessories</td>\n",
       "      <td>902</td>\n",
       "    </tr>\n",
       "    <tr>\n",
       "      <th>4</th>\n",
       "      <td>Home and lifestyle</td>\n",
       "      <td>911</td>\n",
       "    </tr>\n",
       "    <tr>\n",
       "      <th>5</th>\n",
       "      <td>Sports and travel</td>\n",
       "      <td>920</td>\n",
       "    </tr>\n",
       "    <tr>\n",
       "      <th>2</th>\n",
       "      <td>Food and beverages</td>\n",
       "      <td>952</td>\n",
       "    </tr>\n",
       "    <tr>\n",
       "      <th>0</th>\n",
       "      <td>Electronic accessories</td>\n",
       "      <td>971</td>\n",
       "    </tr>\n",
       "  </tbody>\n",
       "</table>\n",
       "</div>"
      ],
      "text/plain": [
       "             Product line  Quantity\n",
       "3       Health and beauty       854\n",
       "1     Fashion accessories       902\n",
       "4      Home and lifestyle       911\n",
       "5       Sports and travel       920\n",
       "2      Food and beverages       952\n",
       "0  Electronic accessories       971"
      ]
     },
     "execution_count": 31,
     "metadata": {},
     "output_type": "execute_result"
    }
   ],
   "source": [
    "prod_qty = all_branch.groupby('Product line')['Quantity'].sum().to_frame().reset_index()\n",
    "prod_qty.sort_values('Quantity', inplace=True)\n",
    "prod_qty"
   ]
  },
  {
   "cell_type": "code",
   "execution_count": 32,
   "id": "00552cab",
   "metadata": {},
   "outputs": [
    {
     "data": {
      "image/png": "[encoded data removed]",
      "text/plain": [
       "<Figure size 1500x800 with 1 Axes>"
      ]
     },
     "metadata": {},
     "output_type": "display_data"
    }
   ],
   "source": [
    "plt.figure(figsize=(15, 8))\n",
    "sb.barplot(data=prod_qty, x='Product line', y='Quantity')\n",
    "plt.title('Quantity Sold by Product Line')\n",
    "plt.show()"
   ]
  },
  {
   "cell_type": "markdown",
   "id": "a086419b",
   "metadata": {},
   "source": [
    "5. Cities with highest sales"
   ]
  },
  {
   "cell_type": "code",
   "execution_count": 33,
   "id": "1ab2a508",
   "metadata": {},
   "outputs": [
    {
     "data": {
      "text/html": [
       "<div>\n",
       "<style scoped>\n",
       "    .dataframe tbody tr th:only-of-type {\n",
       "        vertical-align: middle;\n",
       "    }\n",
       "\n",
       "    .dataframe tbody tr th {\n",
       "        vertical-align: top;\n",
       "    }\n",
       "\n",
       "    .dataframe thead th {\n",
       "        text-align: right;\n",
       "    }\n",
       "</style>\n",
       "<table border=\"1\" class=\"dataframe\">\n",
       "  <thead>\n",
       "    <tr style=\"text-align: right;\">\n",
       "      <th></th>\n",
       "      <th>City</th>\n",
       "      <th>Total</th>\n",
       "    </tr>\n",
       "  </thead>\n",
       "  <tbody>\n",
       "    <tr>\n",
       "      <th>2</th>\n",
       "      <td>Port Harcourt</td>\n",
       "      <td>39804734.34</td>\n",
       "    </tr>\n",
       "    <tr>\n",
       "      <th>1</th>\n",
       "      <td>Lagos</td>\n",
       "      <td>38232133.38</td>\n",
       "    </tr>\n",
       "    <tr>\n",
       "      <th>0</th>\n",
       "      <td>Abuja</td>\n",
       "      <td>38231161.92</td>\n",
       "    </tr>\n",
       "  </tbody>\n",
       "</table>\n",
       "</div>"
      ],
      "text/plain": [
       "            City        Total\n",
       "2  Port Harcourt  39804734.34\n",
       "1          Lagos  38232133.38\n",
       "0          Abuja  38231161.92"
      ]
     },
     "execution_count": 33,
     "metadata": {},
     "output_type": "execute_result"
    }
   ],
   "source": [
    "cities_wt_high_sales= all_branch.groupby('City')['Total'].sum().to_frame().reset_index()\n",
    "cities_wt_high_sales.sort_values('Total', ascending = False, inplace = True)\n",
    "cities_wt_high_sales"
   ]
  },
  {
   "cell_type": "code",
   "execution_count": 34,
   "id": "7aeb9640",
   "metadata": {},
   "outputs": [
    {
     "data": {
      "image/png": "[encoded data removed]",
      "text/plain": [
       "<Figure size 800x500 with 1 Axes>"
      ]
     },
     "metadata": {},
     "output_type": "display_data"
    }
   ],
   "source": [
    "# sb.set_palette('rainbow')\n",
    "plt.figure(figsize=(8, 5))\n",
    "sb.barplot(data=cities_wt_high_sales, x='City', y='Total', color= 'red')\n",
    "plt.title('Cities with highest Sales ')\n",
    "plt.show()"
   ]
  },
  {
   "cell_type": "markdown",
   "id": "6abfc3d1",
   "metadata": {},
   "source": [
    "6. Relationship between quatity and total gross income"
   ]
  },
  {
   "cell_type": "code",
   "execution_count": 35,
   "id": "a734146d",
   "metadata": {},
   "outputs": [
    {
     "data": {
      "text/plain": [
       "Index(['Invoice ID', 'Branch', 'City', 'Customer type', 'Gender',\n",
       "       'Product line', 'Unit price', 'Quantity', 'Tax 5%', 'Total', 'Date',\n",
       "       'Time', 'Payment', 'cogs', 'gross margin percentage', 'gross income',\n",
       "       'Rating'],\n",
       "      dtype='object')"
      ]
     },
     "execution_count": 35,
     "metadata": {},
     "output_type": "execute_result"
    }
   ],
   "source": [
    "all_branch.columns"
   ]
  },
  {
   "cell_type": "code",
   "execution_count": 36,
   "id": "49838059",
   "metadata": {},
   "outputs": [
    {
     "data": {
      "text/plain": [
       "<Axes: xlabel='gross income', ylabel='Quantity'>"
      ]
     },
     "execution_count": 36,
     "metadata": {},
     "output_type": "execute_result"
    },
    {
     "data": {
      "image/png": "[encoded data removed]",
      "text/plain": [
       "<Figure size 640x480 with 1 Axes>"
      ]
     },
     "metadata": {},
     "output_type": "display_data"
    }
   ],
   "source": [
    "sb.scatterplot(data = all_branch, x = 'gross income', y = 'Quantity', color = 'purple')"
   ]
  },
  {
   "cell_type": "markdown",
   "id": "80baff73",
   "metadata": {},
   "source": [
    "There is quite a relationship between Quantity and gross income, they are correlated to each other and as the quantity increases so the gross income increases as well."
   ]
  },
  {
   "cell_type": "code",
   "execution_count": 37,
   "id": "09a4c46f",
   "metadata": {},
   "outputs": [
    {
     "data": {
      "text/html": [
       "<div>\n",
       "<style scoped>\n",
       "    .dataframe tbody tr th:only-of-type {\n",
       "        vertical-align: middle;\n",
       "    }\n",
       "\n",
       "    .dataframe tbody tr th {\n",
       "        vertical-align: top;\n",
       "    }\n",
       "\n",
       "    .dataframe thead th {\n",
       "        text-align: right;\n",
       "    }\n",
       "</style>\n",
       "<table border=\"1\" class=\"dataframe\">\n",
       "  <thead>\n",
       "    <tr style=\"text-align: right;\">\n",
       "      <th></th>\n",
       "      <th>Quantity</th>\n",
       "      <th>gross income</th>\n",
       "    </tr>\n",
       "  </thead>\n",
       "  <tbody>\n",
       "    <tr>\n",
       "      <th>Quantity</th>\n",
       "      <td>1.00000</td>\n",
       "      <td>0.70551</td>\n",
       "    </tr>\n",
       "    <tr>\n",
       "      <th>gross income</th>\n",
       "      <td>0.70551</td>\n",
       "      <td>1.00000</td>\n",
       "    </tr>\n",
       "  </tbody>\n",
       "</table>\n",
       "</div>"
      ],
      "text/plain": [
       "              Quantity  gross income\n",
       "Quantity       1.00000       0.70551\n",
       "gross income   0.70551       1.00000"
      ]
     },
     "execution_count": 37,
     "metadata": {},
     "output_type": "execute_result"
    }
   ],
   "source": [
    "all_branch[['Quantity', 'gross income']].corr()"
   ]
  },
  {
   "cell_type": "markdown",
   "id": "65c93f09",
   "metadata": {},
   "source": [
    "7. Monthly income"
   ]
  },
  {
   "cell_type": "code",
   "execution_count": 38,
   "id": "fa897cdb",
   "metadata": {},
   "outputs": [
    {
     "data": {
      "text/plain": [
       "0    1\n",
       "1    3\n",
       "Name: Date, dtype: int64"
      ]
     },
     "execution_count": 38,
     "metadata": {},
     "output_type": "execute_result"
    }
   ],
   "source": [
    "all_branch['Date'].dt.month.head(2)"
   ]
  },
  {
   "cell_type": "code",
   "execution_count": 39,
   "id": "ef4dbdc0",
   "metadata": {},
   "outputs": [
    {
     "data": {
      "text/plain": [
       "0       January\n",
       "1         March\n",
       "2       January\n",
       "3      February\n",
       "4      February\n",
       "         ...   \n",
       "995     January\n",
       "996     January\n",
       "997       March\n",
       "998    February\n",
       "999     January\n",
       "Name: Month_date, Length: 1000, dtype: object"
      ]
     },
     "execution_count": 39,
     "metadata": {},
     "output_type": "execute_result"
    }
   ],
   "source": [
    "# creating a column for the name of the month\n",
    "all_branch['Month_date'] = all_branch['Date'].dt.month_name()\n",
    "all_branch['Month_date']"
   ]
  },
  {
   "cell_type": "code",
   "execution_count": 40,
   "id": "e40980e5",
   "metadata": {},
   "outputs": [
    {
     "data": {
      "text/plain": [
       "Month_date\n",
       "January     1993574.88\n",
       "March       1876380.12\n",
       "February    1666617.84\n",
       "Name: gross income, dtype: float64"
      ]
     },
     "execution_count": 40,
     "metadata": {},
     "output_type": "execute_result"
    }
   ],
   "source": [
    "Monthly_income = all_branch.groupby('Month_date')['gross income'].sum().sort_values(ascending = False)\n",
    "Monthly_income"
   ]
  },
  {
   "cell_type": "code",
   "execution_count": 41,
   "id": "498d2977",
   "metadata": {},
   "outputs": [
    {
     "data": {
      "image/png": "[encoded data removed]",
      "text/plain": [
       "<Figure size 640x480 with 1 Axes>"
      ]
     },
     "metadata": {},
     "output_type": "display_data"
    }
   ],
   "source": [
    "plt.bar(x = Monthly_income.index, height = Monthly_income.values, color = 'red')\n",
    "plt.xlabel('Month')\n",
    "plt.ylabel('gross income')\n",
    "plt.title('Monthly Income')\n",
    "plt.show()"
   ]
  },
  {
   "cell_type": "markdown",
   "id": "f6318080",
   "metadata": {},
   "source": [
    "8. Most Used Payment Method"
   ]
  },
  {
   "cell_type": "code",
   "execution_count": 42,
   "id": "460f4700",
   "metadata": {},
   "outputs": [
    {
     "data": {
      "text/plain": [
       "Epay    345\n",
       "Cash    344\n",
       "Card    311\n",
       "Name: Payment, dtype: int64"
      ]
     },
     "execution_count": 42,
     "metadata": {},
     "output_type": "execute_result"
    }
   ],
   "source": [
    "Payment_used = all_branch['Payment'].value_counts(ascending = False)\n",
    "Payment_used"
   ]
  },
  {
   "cell_type": "code",
   "execution_count": 43,
   "id": "441e2228",
   "metadata": {},
   "outputs": [
    {
     "data": {
      "image/png": "[encoded data removed]",
      "text/plain": [
       "<Figure size 640x480 with 1 Axes>"
      ]
     },
     "metadata": {},
     "output_type": "display_data"
    },
    {
     "name": "stdout",
     "output_type": "stream",
     "text": [
      "The most used payment method is Epay\n"
     ]
    }
   ],
   "source": [
    "sb.countplot(data = Payment_used, x = Payment_used.index, color = 'indigo')\n",
    "plt.xlabel('Payment method')\n",
    "plt.ylabel('Count')\n",
    "plt.title('Distribution of Payment method')\n",
    "plt.show()\n",
    "print('The most used payment method is Epay')"
   ]
  },
  {
   "cell_type": "markdown",
   "id": "07ebcc55",
   "metadata": {},
   "source": [
    "9. What month has the highest income"
   ]
  },
  {
   "cell_type": "code",
   "execution_count": 44,
   "id": "d9473c9f",
   "metadata": {},
   "outputs": [
    {
     "data": {
      "text/plain": [
       "Index(['Invoice ID', 'Branch', 'City', 'Customer type', 'Gender',\n",
       "       'Product line', 'Unit price', 'Quantity', 'Tax 5%', 'Total', 'Date',\n",
       "       'Time', 'Payment', 'cogs', 'gross margin percentage', 'gross income',\n",
       "       'Rating', 'Month_date'],\n",
       "      dtype='object')"
      ]
     },
     "execution_count": 44,
     "metadata": {},
     "output_type": "execute_result"
    }
   ],
   "source": [
    "all_branch.columns"
   ]
  },
  {
   "cell_type": "code",
   "execution_count": 45,
   "id": "619a47bf",
   "metadata": {},
   "outputs": [
    {
     "data": {
      "text/plain": [
       "790    February\n",
       "Name: Month_date, dtype: object"
      ]
     },
     "execution_count": 45,
     "metadata": {},
     "output_type": "execute_result"
    }
   ],
   "source": [
    "all_branch[all_branch['gross income'] == all_branch['gross income'].max()]['Month_date']\n",
    "#all_branch.loc[all_branch['gross income'].idxmax()]"
   ]
  },
  {
   "cell_type": "markdown",
   "id": "8bfbdd4b",
   "metadata": {},
   "source": [
    "10. What month has the lowest tax generated"
   ]
  },
  {
   "cell_type": "code",
   "execution_count": 46,
   "id": "21724b36",
   "metadata": {},
   "outputs": [
    {
     "data": {
      "text/plain": [
       "Month_date      February\n",
       "Tax 5%        1666617.84\n",
       "dtype: object"
      ]
     },
     "execution_count": 46,
     "metadata": {},
     "output_type": "execute_result"
    }
   ],
   "source": [
    "tax_month = all_branch.groupby('Month_date')['Tax 5%'].sum().to_frame().reset_index()\n",
    "tax_month.sort_values('Tax 5%',inplace = True)\n",
    "tax_month\n",
    "lowest_tax_month = tax_month.min()\n",
    "lowest_tax_month"
   ]
  },
  {
   "cell_type": "markdown",
   "id": "33b8dcef",
   "metadata": {},
   "source": [
    "11 For each branch, what is the most used payment method"
   ]
  },
  {
   "cell_type": "code",
   "execution_count": 47,
   "id": "9940c79b",
   "metadata": {},
   "outputs": [
    {
     "data": {
      "text/html": [
       "<div>\n",
       "<style scoped>\n",
       "    .dataframe tbody tr th:only-of-type {\n",
       "        vertical-align: middle;\n",
       "    }\n",
       "\n",
       "    .dataframe tbody tr th {\n",
       "        vertical-align: top;\n",
       "    }\n",
       "\n",
       "    .dataframe thead th {\n",
       "        text-align: right;\n",
       "    }\n",
       "</style>\n",
       "<table border=\"1\" class=\"dataframe\">\n",
       "  <thead>\n",
       "    <tr style=\"text-align: right;\">\n",
       "      <th></th>\n",
       "      <th>Branch</th>\n",
       "      <th>Payment</th>\n",
       "      <th>payment_count</th>\n",
       "    </tr>\n",
       "  </thead>\n",
       "  <tbody>\n",
       "    <tr>\n",
       "      <th>0</th>\n",
       "      <td>A</td>\n",
       "      <td>Epay</td>\n",
       "      <td>126</td>\n",
       "    </tr>\n",
       "    <tr>\n",
       "      <th>1</th>\n",
       "      <td>A</td>\n",
       "      <td>Cash</td>\n",
       "      <td>110</td>\n",
       "    </tr>\n",
       "    <tr>\n",
       "      <th>2</th>\n",
       "      <td>A</td>\n",
       "      <td>Card</td>\n",
       "      <td>104</td>\n",
       "    </tr>\n",
       "    <tr>\n",
       "      <th>3</th>\n",
       "      <td>B</td>\n",
       "      <td>Epay</td>\n",
       "      <td>113</td>\n",
       "    </tr>\n",
       "    <tr>\n",
       "      <th>4</th>\n",
       "      <td>B</td>\n",
       "      <td>Cash</td>\n",
       "      <td>110</td>\n",
       "    </tr>\n",
       "    <tr>\n",
       "      <th>5</th>\n",
       "      <td>B</td>\n",
       "      <td>Card</td>\n",
       "      <td>109</td>\n",
       "    </tr>\n",
       "    <tr>\n",
       "      <th>6</th>\n",
       "      <td>C</td>\n",
       "      <td>Cash</td>\n",
       "      <td>124</td>\n",
       "    </tr>\n",
       "    <tr>\n",
       "      <th>7</th>\n",
       "      <td>C</td>\n",
       "      <td>Epay</td>\n",
       "      <td>106</td>\n",
       "    </tr>\n",
       "    <tr>\n",
       "      <th>8</th>\n",
       "      <td>C</td>\n",
       "      <td>Card</td>\n",
       "      <td>98</td>\n",
       "    </tr>\n",
       "  </tbody>\n",
       "</table>\n",
       "</div>"
      ],
      "text/plain": [
       "  Branch Payment  payment_count\n",
       "0      A    Epay            126\n",
       "1      A    Cash            110\n",
       "2      A    Card            104\n",
       "3      B    Epay            113\n",
       "4      B    Cash            110\n",
       "5      B    Card            109\n",
       "6      C    Cash            124\n",
       "7      C    Epay            106\n",
       "8      C    Card             98"
      ]
     },
     "execution_count": 47,
     "metadata": {},
     "output_type": "execute_result"
    }
   ],
   "source": [
    "Branch_payment_method = all_branch.groupby('Branch')['Payment'].value_counts().to_frame(name = 'payment_count').reset_index()\n",
    "Branch_payment_method"
   ]
  },
  {
   "cell_type": "code",
   "execution_count": 48,
   "id": "ddfeab5e",
   "metadata": {},
   "outputs": [
    {
     "data": {
      "image/png": "[encoded data removed]",
      "text/plain": [
       "<Figure size 1500x800 with 1 Axes>"
      ]
     },
     "metadata": {},
     "output_type": "display_data"
    },
    {
     "name": "stdout",
     "output_type": "stream",
     "text": [
      "The most common payment method for Branch A is Epay\n",
      "The most common payment method for Branch B is Epay\n",
      "The most common payment method for Branch C is Cash\n"
     ]
    }
   ],
   "source": [
    "plt.figure(figsize=(15, 8))\n",
    "sb.set_palette('RdBu_r')\n",
    "sb.barplot(data=Branch_payment_method, x='Branch', y='payment_count', hue='Payment')\n",
    "plt.title('Most used payment method')\n",
    "plt.show()\n",
    "print('The most common payment method for Branch A is Epay')\n",
    "print('The most common payment method for Branch B is Epay')\n",
    "print('The most common payment method for Branch C is Cash')"
   ]
  },
  {
   "cell_type": "markdown",
   "id": "ed1a0c45",
   "metadata": {},
   "source": [
    "12. What's the total tax generated"
   ]
  },
  {
   "cell_type": "code",
   "execution_count": 49,
   "id": "69d2c2e2",
   "metadata": {},
   "outputs": [
    {
     "name": "stdout",
     "output_type": "stream",
     "text": [
      "The total tax generated is 5,536,573\n"
     ]
    }
   ],
   "source": [
    "tax = all_branch['Tax 5%'].sum()\n",
    "print(f'The total tax generated is {tax:,.0f}')"
   ]
  },
  {
   "cell_type": "markdown",
   "id": "c5f19826",
   "metadata": {},
   "source": [
    "13. For each product line, which gender dominates in terms of quantity purchased."
   ]
  },
  {
   "cell_type": "code",
   "execution_count": 50,
   "id": "4e2efb52",
   "metadata": {},
   "outputs": [
    {
     "data": {
      "text/html": [
       "<div>\n",
       "<style scoped>\n",
       "    .dataframe tbody tr th:only-of-type {\n",
       "        vertical-align: middle;\n",
       "    }\n",
       "\n",
       "    .dataframe tbody tr th {\n",
       "        vertical-align: top;\n",
       "    }\n",
       "\n",
       "    .dataframe thead th {\n",
       "        text-align: right;\n",
       "    }\n",
       "</style>\n",
       "<table border=\"1\" class=\"dataframe\">\n",
       "  <thead>\n",
       "    <tr style=\"text-align: right;\">\n",
       "      <th></th>\n",
       "      <th>Product line</th>\n",
       "      <th>Gender</th>\n",
       "      <th>Quantity</th>\n",
       "    </tr>\n",
       "  </thead>\n",
       "  <tbody>\n",
       "    <tr>\n",
       "      <th>0</th>\n",
       "      <td>Electronic accessories</td>\n",
       "      <td>Female</td>\n",
       "      <td>488</td>\n",
       "    </tr>\n",
       "    <tr>\n",
       "      <th>1</th>\n",
       "      <td>Electronic accessories</td>\n",
       "      <td>Male</td>\n",
       "      <td>483</td>\n",
       "    </tr>\n",
       "    <tr>\n",
       "      <th>2</th>\n",
       "      <td>Fashion accessories</td>\n",
       "      <td>Female</td>\n",
       "      <td>530</td>\n",
       "    </tr>\n",
       "    <tr>\n",
       "      <th>3</th>\n",
       "      <td>Fashion accessories</td>\n",
       "      <td>Male</td>\n",
       "      <td>372</td>\n",
       "    </tr>\n",
       "    <tr>\n",
       "      <th>4</th>\n",
       "      <td>Food and beverages</td>\n",
       "      <td>Female</td>\n",
       "      <td>514</td>\n",
       "    </tr>\n",
       "    <tr>\n",
       "      <th>5</th>\n",
       "      <td>Food and beverages</td>\n",
       "      <td>Male</td>\n",
       "      <td>438</td>\n",
       "    </tr>\n",
       "    <tr>\n",
       "      <th>6</th>\n",
       "      <td>Health and beauty</td>\n",
       "      <td>Female</td>\n",
       "      <td>343</td>\n",
       "    </tr>\n",
       "    <tr>\n",
       "      <th>7</th>\n",
       "      <td>Health and beauty</td>\n",
       "      <td>Male</td>\n",
       "      <td>511</td>\n",
       "    </tr>\n",
       "    <tr>\n",
       "      <th>8</th>\n",
       "      <td>Home and lifestyle</td>\n",
       "      <td>Female</td>\n",
       "      <td>498</td>\n",
       "    </tr>\n",
       "    <tr>\n",
       "      <th>9</th>\n",
       "      <td>Home and lifestyle</td>\n",
       "      <td>Male</td>\n",
       "      <td>413</td>\n",
       "    </tr>\n",
       "    <tr>\n",
       "      <th>10</th>\n",
       "      <td>Sports and travel</td>\n",
       "      <td>Female</td>\n",
       "      <td>496</td>\n",
       "    </tr>\n",
       "    <tr>\n",
       "      <th>11</th>\n",
       "      <td>Sports and travel</td>\n",
       "      <td>Male</td>\n",
       "      <td>424</td>\n",
       "    </tr>\n",
       "  </tbody>\n",
       "</table>\n",
       "</div>"
      ],
      "text/plain": [
       "              Product line  Gender  Quantity\n",
       "0   Electronic accessories  Female       488\n",
       "1   Electronic accessories    Male       483\n",
       "2      Fashion accessories  Female       530\n",
       "3      Fashion accessories    Male       372\n",
       "4       Food and beverages  Female       514\n",
       "5       Food and beverages    Male       438\n",
       "6        Health and beauty  Female       343\n",
       "7        Health and beauty    Male       511\n",
       "8       Home and lifestyle  Female       498\n",
       "9       Home and lifestyle    Male       413\n",
       "10       Sports and travel  Female       496\n",
       "11       Sports and travel    Male       424"
      ]
     },
     "execution_count": 50,
     "metadata": {},
     "output_type": "execute_result"
    }
   ],
   "source": [
    "prod_gen = all_branch.groupby(['Product line', 'Gender'])['Quantity'].sum().reset_index()\n",
    "prod_gen"
   ]
  },
  {
   "cell_type": "code",
   "execution_count": 51,
   "id": "07e85168",
   "metadata": {},
   "outputs": [
    {
     "data": {
      "image/png": "[encoded data removed]",
      "text/plain": [
       "<Figure size 1500x800 with 1 Axes>"
      ]
     },
     "metadata": {},
     "output_type": "display_data"
    }
   ],
   "source": [
    "sb.set_palette('RdBu_r')\n",
    "\n",
    "plt.figure(figsize=(15, 8))\n",
    "\n",
    "sb.barplot(data=prod_gen, x='Product line', y='Quantity', hue='Gender')\n",
    "plt.title('Quantity Sold by Product Line')\n",
    "plt.show()"
   ]
  },
  {
   "cell_type": "markdown",
   "id": "92c0b4b6",
   "metadata": {},
   "source": [
    "14. The day and time where sales was high and low"
   ]
  },
  {
   "cell_type": "code",
   "execution_count": 52,
   "id": "8179c43c",
   "metadata": {},
   "outputs": [
    {
     "data": {
      "text/plain": [
       "Date\n",
       "1    3536670.06\n",
       "2    4552832.34\n",
       "3    4463722.62\n",
       "4    2864744.82\n",
       "5    4607528.94\n",
       "Name: Total, dtype: float64"
      ]
     },
     "execution_count": 52,
     "metadata": {},
     "output_type": "execute_result"
    }
   ],
   "source": [
    "day = all_branch.groupby(all_branch['Date'].dt.day)['Total'].sum()\n",
    "day.head()"
   ]
  },
  {
   "cell_type": "code",
   "execution_count": 53,
   "id": "e2d4bc4f",
   "metadata": {},
   "outputs": [
    {
     "data": {
      "image/png": "[encoded data removed]",
      "text/plain": [
       "<Figure size 1500x800 with 1 Axes>"
      ]
     },
     "metadata": {},
     "output_type": "display_data"
    }
   ],
   "source": [
    "plt.figure(figsize=(15, 8))\n",
    "sb.lineplot(x=day.index, y=day.values)\n",
    "plt.ylabel('Sales')\n",
    "plt.title('Sales by Day')\n",
    "plt.show()"
   ]
  }
 ],
 "metadata": {
  "kernelspec": {
   "display_name": "Python 3 (ipykernel)",
   "language": "python",
   "name": "python3"
  },
  "language_info": {
   "codemirror_mode": {
    "name": "ipython",
    "version": 3
   },
   "file_extension": ".py",
   "mimetype": "text/x-python",
   "name": "python",
   "nbconvert_exporter": "python",
   "pygments_lexer": "ipython3",
   "version": "3.10.9"
  },
  "varInspector": {
   "cols": {
    "lenName": 16,
    "lenType": 16,
    "lenVar": 40
   },
   "kernels_config": {
    "python": {
     "delete_cmd_postfix": "",
     "delete_cmd_prefix": "del ",
     "library": "var_list.py",
     "varRefreshCmd": "print(var_dic_list())"
    },
    "r": {
     "delete_cmd_postfix": ") ",
     "delete_cmd_prefix": "rm(",
     "library": "var_list.r",
     "varRefreshCmd": "cat(var_dic_list()) "
    }
   },
   "types_to_exclude": [
    "module",
    "function",
    "builtin_function_or_method",
    "instance",
    "_Feature"
   ],
   "window_display": false
  }
 },
 "nbformat": 4,
 "nbformat_minor": 5
}
